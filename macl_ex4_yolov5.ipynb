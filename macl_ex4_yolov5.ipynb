{
  "cells": [
    {
      "cell_type": "markdown",
      "metadata": {
        "id": "uFzlvx93bPzZ"
      },
      "source": [
        "# **Machine Learning Exercise 4**\n",
        "----------------------------------------------------------------------\n",
        "The following notebook includes our code for the following tasks in Exercise 4:\n",
        "\n",
        "1. Flower classification using YOLOv5 (Adapted for image classification)\n",
        "\n",
        "\n",
        "---------------------------------------------------------------------------\n",
        "\n",
        "We evaluated our implementations using the following evaluation metrics:\n",
        "\n",
        "**Evaluation Metrics**:\n",
        "1. Accuracy\n",
        "2. Cross Entropy Loss\n",
        "\n",
        "-------------------------------------------------------------------------\n",
        "**Datasets**:\n",
        "In our assignment, we used one dataset of flowers:\n",
        "\n",
        "1. **102 Category Flower Dataset**:\n",
        "This dataset consists 102 flower categories from the United Kingdom. Each class consists of between 40 and 258 images. The dataset is visualized using isomap with shape and colour features.\n",
        "\n",
        "\n",
        "We stored our dataset in a google drive folder and uploaded it to the notebook using the download link\n",
        "\n",
        "\n"
      ]
    },
    {
      "cell_type": "markdown",
      "metadata": {
        "id": "FhKCjEAHbZHI"
      },
      "source": [
        "# Installations and Imports"
      ]
    },
    {
      "cell_type": "code",
      "execution_count": 2,
      "metadata": {
        "colab": {
          "base_uri": "https://localhost:8080/"
        },
        "collapsed": true,
        "id": "uSoTKiAIbe8U",
        "outputId": "d4b5de4f-d53e-478f-b4e7-b3e743d9fbf3"
      },
      "outputs": [
        {
          "output_type": "stream",
          "name": "stdout",
          "text": [
            "Requirement already satisfied: kaggle in /usr/local/lib/python3.11/dist-packages (1.6.17)\n",
            "Requirement already satisfied: scikit-learn in /usr/local/lib/python3.11/dist-packages (1.6.1)\n",
            "Requirement already satisfied: pandas in /usr/local/lib/python3.11/dist-packages (2.2.2)\n",
            "Requirement already satisfied: matplotlib in /usr/local/lib/python3.11/dist-packages (3.10.0)\n",
            "Requirement already satisfied: six>=1.10 in /usr/local/lib/python3.11/dist-packages (from kaggle) (1.17.0)\n",
            "Requirement already satisfied: certifi>=2023.7.22 in /usr/local/lib/python3.11/dist-packages (from kaggle) (2024.12.14)\n",
            "Requirement already satisfied: python-dateutil in /usr/local/lib/python3.11/dist-packages (from kaggle) (2.8.2)\n",
            "Requirement already satisfied: requests in /usr/local/lib/python3.11/dist-packages (from kaggle) (2.32.3)\n",
            "Requirement already satisfied: tqdm in /usr/local/lib/python3.11/dist-packages (from kaggle) (4.67.1)\n",
            "Requirement already satisfied: python-slugify in /usr/local/lib/python3.11/dist-packages (from kaggle) (8.0.4)\n",
            "Requirement already satisfied: urllib3 in /usr/local/lib/python3.11/dist-packages (from kaggle) (2.3.0)\n",
            "Requirement already satisfied: bleach in /usr/local/lib/python3.11/dist-packages (from kaggle) (6.2.0)\n",
            "Requirement already satisfied: numpy>=1.19.5 in /usr/local/lib/python3.11/dist-packages (from scikit-learn) (1.26.4)\n",
            "Requirement already satisfied: scipy>=1.6.0 in /usr/local/lib/python3.11/dist-packages (from scikit-learn) (1.13.1)\n",
            "Requirement already satisfied: joblib>=1.2.0 in /usr/local/lib/python3.11/dist-packages (from scikit-learn) (1.4.2)\n",
            "Requirement already satisfied: threadpoolctl>=3.1.0 in /usr/local/lib/python3.11/dist-packages (from scikit-learn) (3.5.0)\n",
            "Requirement already satisfied: pytz>=2020.1 in /usr/local/lib/python3.11/dist-packages (from pandas) (2024.2)\n",
            "Requirement already satisfied: tzdata>=2022.7 in /usr/local/lib/python3.11/dist-packages (from pandas) (2025.1)\n",
            "Requirement already satisfied: contourpy>=1.0.1 in /usr/local/lib/python3.11/dist-packages (from matplotlib) (1.3.1)\n",
            "Requirement already satisfied: cycler>=0.10 in /usr/local/lib/python3.11/dist-packages (from matplotlib) (0.12.1)\n",
            "Requirement already satisfied: fonttools>=4.22.0 in /usr/local/lib/python3.11/dist-packages (from matplotlib) (4.55.7)\n",
            "Requirement already satisfied: kiwisolver>=1.3.1 in /usr/local/lib/python3.11/dist-packages (from matplotlib) (1.4.8)\n",
            "Requirement already satisfied: packaging>=20.0 in /usr/local/lib/python3.11/dist-packages (from matplotlib) (24.2)\n",
            "Requirement already satisfied: pillow>=8 in /usr/local/lib/python3.11/dist-packages (from matplotlib) (11.1.0)\n",
            "Requirement already satisfied: pyparsing>=2.3.1 in /usr/local/lib/python3.11/dist-packages (from matplotlib) (3.2.1)\n",
            "Requirement already satisfied: webencodings in /usr/local/lib/python3.11/dist-packages (from bleach->kaggle) (0.5.1)\n",
            "Requirement already satisfied: text-unidecode>=1.3 in /usr/local/lib/python3.11/dist-packages (from python-slugify->kaggle) (1.3)\n",
            "Requirement already satisfied: charset-normalizer<4,>=2 in /usr/local/lib/python3.11/dist-packages (from requests->kaggle) (3.4.1)\n",
            "Requirement already satisfied: idna<4,>=2.5 in /usr/local/lib/python3.11/dist-packages (from requests->kaggle) (3.10)\n",
            "Requirement already satisfied: gdown in /usr/local/lib/python3.11/dist-packages (5.2.0)\n",
            "Requirement already satisfied: beautifulsoup4 in /usr/local/lib/python3.11/dist-packages (from gdown) (4.12.3)\n",
            "Requirement already satisfied: filelock in /usr/local/lib/python3.11/dist-packages (from gdown) (3.17.0)\n",
            "Requirement already satisfied: requests[socks] in /usr/local/lib/python3.11/dist-packages (from gdown) (2.32.3)\n",
            "Requirement already satisfied: tqdm in /usr/local/lib/python3.11/dist-packages (from gdown) (4.67.1)\n",
            "Requirement already satisfied: soupsieve>1.2 in /usr/local/lib/python3.11/dist-packages (from beautifulsoup4->gdown) (2.6)\n",
            "Requirement already satisfied: charset-normalizer<4,>=2 in /usr/local/lib/python3.11/dist-packages (from requests[socks]->gdown) (3.4.1)\n",
            "Requirement already satisfied: idna<4,>=2.5 in /usr/local/lib/python3.11/dist-packages (from requests[socks]->gdown) (3.10)\n",
            "Requirement already satisfied: urllib3<3,>=1.21.1 in /usr/local/lib/python3.11/dist-packages (from requests[socks]->gdown) (2.3.0)\n",
            "Requirement already satisfied: certifi>=2017.4.17 in /usr/local/lib/python3.11/dist-packages (from requests[socks]->gdown) (2024.12.14)\n",
            "Requirement already satisfied: PySocks!=1.5.7,>=1.5.6 in /usr/local/lib/python3.11/dist-packages (from requests[socks]->gdown) (1.7.1)\n"
          ]
        }
      ],
      "source": [
        "#---------------------Installations---------------------#\n",
        "\n",
        "!pip install kaggle scikit-learn pandas matplotlib\n",
        "!pip install gdown\n",
        "\n",
        "\n",
        "#---------------------Imports---------------------#\n",
        "import tarfile\n",
        "import os\n",
        "import gdown\n",
        "import scipy.io\n",
        "import torch\n",
        "from pathlib import Path\n",
        "\n",
        "from torchvision import transforms\n",
        "from torch.utils.data import Dataset, DataLoader\n",
        "from PIL import Image\n",
        "\n",
        "import numpy as np\n",
        "import matplotlib.pyplot as plt\n",
        "import pandas as pd\n",
        "from sklearn.model_selection import train_test_split\n",
        "\n",
        "import gc\n",
        "\n",
        "\n",
        "import tensorflow as tf\n",
        "from tensorflow.keras.applications import VGG19\n",
        "from tensorflow.keras.models import Model\n",
        "from tensorflow.keras.preprocessing.image import ImageDataGenerator\n",
        "from tensorflow.keras.optimizers import Adam\n",
        "\n",
        "from tensorflow.keras.layers import Conv2D, MaxPooling2D, Flatten, Dense, Dropout, BatchNormalization\n",
        "\n"
      ]
    },
    {
      "cell_type": "markdown",
      "metadata": {
        "id": "Xan19iVteC6l"
      },
      "source": [
        "# Constants"
      ]
    },
    {
      "cell_type": "code",
      "execution_count": 3,
      "metadata": {
        "id": "ZvEzhyOYeDWW"
      },
      "outputs": [],
      "source": [
        "#---------------------Constants---------------------#\n",
        "TRAIN_SIZE = 0.5\n",
        "VALIDATION_SIZE = 0.25\n",
        "TEST_SIZE = 0.25\n",
        "RANDOM_STATE = 42\n",
        "IMAGE_SIZE = (224, 224)\n",
        "BATCH_SIZE = 32\n",
        "NORMALIZATION_RANGE = (0, 1)\n",
        "EPOCHS = 20\n",
        "LEARNING_RATE_VGG19 = 0.001\n",
        "N_CLASSES = 102\n",
        "DEGREES = 15\n",
        "NUM_SPLITS = 2\n",
        "\n",
        "data = {\n",
        "    \"imagelabels.mat\": \"https://drive.google.com/uc?export=download&id=1Clw9f_dRyvQhtm-8U6UIPjDWCghYhQK4\",\n",
        "    \"102flowers.tgz\": \"https://drive.google.com/uc?export=download&id=10SEqlTxkqhnsB_sWGnv8bl2-wBagDR26\"\n",
        "}\n"
      ]
    },
    {
      "cell_type": "markdown",
      "metadata": {
        "id": "DhrRNzkpbhHJ"
      },
      "source": [
        "# Download and Load Datasets"
      ]
    },
    {
      "cell_type": "code",
      "execution_count": 4,
      "metadata": {
        "colab": {
          "base_uri": "https://localhost:8080/"
        },
        "id": "13-lmfhAWs1A",
        "outputId": "f4ecd8d5-e2e5-41bc-8dba-ec830bff7799"
      },
      "outputs": [
        {
          "output_type": "stream",
          "name": "stderr",
          "text": [
            "Downloading...\n",
            "From (original): https://drive.google.com/uc?export=download&id=1Clw9f_dRyvQhtm-8U6UIPjDWCghYhQK4\n",
            "From (redirected): https://drive.google.com/uc?export=download&id=1Clw9f_dRyvQhtm-8U6UIPjDWCghYhQK4&confirm=t&uuid=3f2a3171-1a08-4bf5-a027-fd4f29fb5941\n",
            "To: /content/flower_data/imagelabels.mat\n",
            "100%|██████████| 502/502 [00:00<00:00, 1.92MB/s]\n",
            "Downloading...\n",
            "From (original): https://drive.google.com/uc?export=download&id=10SEqlTxkqhnsB_sWGnv8bl2-wBagDR26\n",
            "From (redirected): https://drive.google.com/uc?export=download&id=10SEqlTxkqhnsB_sWGnv8bl2-wBagDR26&confirm=t&uuid=ef6fd9f2-e51a-4c0b-b478-3d45f06975d7\n",
            "To: /content/flower_data/102flowers.tgz\n",
            "100%|██████████| 345M/345M [00:11<00:00, 29.9MB/s]\n"
          ]
        }
      ],
      "source": [
        "#dowloading the files into a directory called flower_data\n",
        "\n",
        "os.makedirs(\"flower_data\", exist_ok=True)\n",
        "\n",
        "\n",
        "#downloading the mat files\n",
        "for to_download in data:\n",
        "  gdown.download(data[to_download], f\"flower_data/{to_download}\", quiet=False)\n"
      ]
    },
    {
      "cell_type": "code",
      "execution_count": 5,
      "metadata": {
        "colab": {
          "base_uri": "https://localhost:8080/"
        },
        "id": "-cq3yPhCW21X",
        "outputId": "e94f3f23-4eff-4bde-a2ea-6cda2106e380"
      },
      "outputs": [
        {
          "output_type": "stream",
          "name": "stdout",
          "text": [
            "Extracted files to: flower_data\n"
          ]
        }
      ],
      "source": [
        "extraction_folder = \"flower_data\"\n",
        "\n",
        "with tarfile.open(\"/content/flower_data/102flowers.tgz\", \"r:gz\") as tar:\n",
        "    tar.extractall(extraction_folder)\n",
        "\n",
        "print(f\"Extracted files to: {extraction_folder}\")"
      ]
    },
    {
      "cell_type": "code",
      "execution_count": 6,
      "metadata": {
        "colab": {
          "base_uri": "https://localhost:8080/"
        },
        "id": "zVJxz-xadjkb",
        "outputId": "07274f1b-f74f-40f2-ab19-2350ea596ff5"
      },
      "outputs": [
        {
          "output_type": "stream",
          "name": "stdout",
          "text": [
            "Total images found: 8189\n",
            "Sample image paths: ['/content/flower_data/jpg/image_00001.jpg', '/content/flower_data/jpg/image_00002.jpg', '/content/flower_data/jpg/image_00003.jpg', '/content/flower_data/jpg/image_00004.jpg', '/content/flower_data/jpg/image_00005.jpg']\n"
          ]
        }
      ],
      "source": [
        "image_dir = Path(\"/content/flower_data/jpg\")\n",
        "\n",
        "all_images = sorted(image_dir.glob(\"*.jpg\"))\n",
        "all_images = [str(img) for img in all_images]\n",
        "print(f\"Total images found: {len(all_images)}\")\n",
        "print(f\"Sample image paths: {all_images[:5]}\")\n"
      ]
    },
    {
      "cell_type": "code",
      "execution_count": 7,
      "metadata": {
        "colab": {
          "base_uri": "https://localhost:8080/"
        },
        "id": "RxwtKAQifH_V",
        "outputId": "634e0d78-9189-46b8-8e06-5ec0f4509c9b"
      },
      "outputs": [
        {
          "output_type": "stream",
          "name": "stdout",
          "text": [
            "Number of labels: 8189\n",
            "Sample labels: [77 77 77 77 77 77 77 77 77 77]\n"
          ]
        }
      ],
      "source": [
        "labels_data = scipy.io.loadmat(\"/content/flower_data/imagelabels.mat\")\n",
        "labels = labels_data['labels'][0]\n",
        "print(f\"Number of labels: {len(labels)}\")\n",
        "print(f\"Sample labels: {labels[:10]}\")\n"
      ]
    },
    {
      "cell_type": "code",
      "execution_count": 8,
      "metadata": {
        "colab": {
          "base_uri": "https://localhost:8080/"
        },
        "id": "tjHexrYYfPmt",
        "outputId": "0e78b3ae-aa8e-424f-eb66-55fdfe9641f4"
      },
      "outputs": [
        {
          "output_type": "stream",
          "name": "stdout",
          "text": [
            "Total image-label pairs: 8189\n",
            "Sample pairs: [('/content/flower_data/jpg/image_00001.jpg', 77), ('/content/flower_data/jpg/image_00002.jpg', 77), ('/content/flower_data/jpg/image_00003.jpg', 77), ('/content/flower_data/jpg/image_00004.jpg', 77), ('/content/flower_data/jpg/image_00005.jpg', 77)]\n"
          ]
        }
      ],
      "source": [
        "image_label_pairs = [(str(image_path), label) for image_path, label in zip(all_images, labels)]\n",
        "\n",
        "print(f\"Total image-label pairs: {len(image_label_pairs)}\")\n",
        "print(f\"Sample pairs: {image_label_pairs[:5]}\")\n"
      ]
    },
    {
      "cell_type": "markdown",
      "source": [
        "##Train Test Split and Plotting Function##"
      ],
      "metadata": {
        "id": "cyOEwWM7S__z"
      }
    },
    {
      "cell_type": "code",
      "execution_count": 9,
      "metadata": {
        "colab": {
          "base_uri": "https://localhost:8080/"
        },
        "id": "6XicP52G9ebV",
        "outputId": "45a2af46-a53f-4dca-829f-ee1b79fce440"
      },
      "outputs": [
        {
          "output_type": "execute_result",
          "data": {
            "text/plain": [
              "0"
            ]
          },
          "metadata": {},
          "execution_count": 9
        }
      ],
      "source": [
        "#to use to clean memory\n",
        "gc.collect()"
      ]
    },
    {
      "cell_type": "code",
      "execution_count": 10,
      "metadata": {
        "id": "Ekl5J6th9mfi"
      },
      "outputs": [],
      "source": [
        "splits = []\n",
        "\n",
        "for i in range(NUM_SPLITS):\n",
        "    train_imgs, temp_imgs, train_labels, temp_labels = train_test_split(\n",
        "        all_images, labels, test_size=0.5, random_state=RANDOM_STATE, stratify=labels\n",
        "    )\n",
        "\n",
        "    val_imgs, test_imgs, val_labels, test_labels = train_test_split(\n",
        "        temp_imgs, temp_labels, test_size=0.5, random_state=RANDOM_STATE, stratify=temp_labels\n",
        "    )\n",
        "\n",
        "    train_labels = list(map(str, train_labels))\n",
        "    val_labels = list(map(str, val_labels))\n",
        "    test_labels = list(map(str, test_labels))\n",
        "\n",
        "    splits.append((train_imgs, train_labels, val_imgs, val_labels, test_imgs, test_labels))\n"
      ]
    },
    {
      "cell_type": "markdown",
      "source": [
        "##Building the YOLO5 Model##"
      ],
      "metadata": {
        "id": "9tB16W8rTWys"
      }
    },
    {
      "cell_type": "code",
      "source": [
        "#------------------preparing dataset for YOLOv5------------------#\n",
        "def prepare_yolo_dataset(train_imgs, val_imgs, test_imgs, train_labels, val_labels, test_labels):\n",
        "    base_path = \"yolo_flower_dataset\"\n",
        "    os.makedirs(base_path, exist_ok=True)\n",
        "\n",
        "    for split in [\"train\", \"val\", \"test\"]:\n",
        "        os.makedirs(os.path.join(base_path, split, \"images\"), exist_ok=True)\n",
        "        os.makedirs(os.path.join(base_path, split, \"labels\"), exist_ok=True)\n",
        "\n",
        "    for split, images, labels in [\n",
        "        (\"train\", train_imgs, train_labels),\n",
        "        (\"val\", val_imgs, val_labels),\n",
        "        (\"test\", test_imgs, test_labels)]:\n",
        "\n",
        "        for img_path, label in zip(images, labels):\n",
        "            shutil.copy(img_path, os.path.join(base_path, split, \"images\", os.path.basename(img_path)))\n",
        "\n",
        "            label_file = os.path.join(base_path, split, \"labels\", os.path.basename(img_path).replace(\".jpg\", \".txt\"))\n",
        "            with open(label_file, \"w\") as f:\n",
        "                f.write(f\"{int(label) - 1} 0.5 0.5 0.8 0.8\\n\")\n",
        "\n",
        "    dataset_yaml = {\n",
        "        \"train\": os.path.abspath(os.path.join(base_path, \"train/images\")),\n",
        "        \"val\": os.path.abspath(os.path.join(base_path, \"val/images\")),\n",
        "        \"test\": os.path.abspath(os.path.join(base_path, \"test/images\")),\n",
        "        \"nc\": N_CLASSES,\n",
        "        \"names\": [f\"class_{i}\" for i in range(N_CLASSES)]\n",
        "    }\n",
        "\n",
        "    with open(os.path.join(base_path, \"dataset.yaml\"), \"w\") as f:\n",
        "        yaml.dump(dataset_yaml, f)\n",
        "\n",
        "    return os.path.join(base_path, \"dataset.yaml\")"
      ],
      "metadata": {
        "id": "ITi-cG0IUrJb"
      },
      "execution_count": 12,
      "outputs": []
    },
    {
      "cell_type": "code",
      "source": [
        "#---------------------Installations and imports for YOLOv5---------------------#\n",
        "\n",
        "\n",
        "!pip uninstall -y ultralytics torch torchvision torchaudio\n",
        "!pip install torch torchvision torchaudio --index-url https://download.pytorch.org/whl/cu118\n",
        "!pip install ultralytics\n",
        "!pip install pycocotools>=2.0 seaborn>=0.11.0 pandas thop\n",
        "\n",
        "\n",
        "import yaml\n",
        "import shutil\n",
        "from ultralytics import YOLO"
      ],
      "metadata": {
        "id": "w-zg879dX79y",
        "colab": {
          "base_uri": "https://localhost:8080/",
          "height": 1000
        },
        "outputId": "517b4a2e-fd85-4bb4-95f6-1719b379dfb4"
      },
      "execution_count": 13,
      "outputs": [
        {
          "output_type": "stream",
          "name": "stdout",
          "text": [
            "Found existing installation: ultralytics 8.3.70\n",
            "Uninstalling ultralytics-8.3.70:\n",
            "  Successfully uninstalled ultralytics-8.3.70\n",
            "Found existing installation: torch 2.6.0+cu118\n",
            "Uninstalling torch-2.6.0+cu118:\n",
            "  Successfully uninstalled torch-2.6.0+cu118\n",
            "Found existing installation: torchvision 0.21.0+cu118\n",
            "Uninstalling torchvision-0.21.0+cu118:\n",
            "  Successfully uninstalled torchvision-0.21.0+cu118\n",
            "Found existing installation: torchaudio 2.6.0+cu118\n",
            "Uninstalling torchaudio-2.6.0+cu118:\n",
            "  Successfully uninstalled torchaudio-2.6.0+cu118\n",
            "Looking in indexes: https://download.pytorch.org/whl/cu118\n",
            "Collecting torch\n",
            "  Using cached https://download.pytorch.org/whl/cu118/torch-2.6.0%2Bcu118-cp311-cp311-linux_x86_64.whl.metadata (27 kB)\n",
            "Collecting torchvision\n",
            "  Using cached https://download.pytorch.org/whl/cu118/torchvision-0.21.0%2Bcu118-cp311-cp311-linux_x86_64.whl.metadata (6.1 kB)\n",
            "Collecting torchaudio\n",
            "  Using cached https://download.pytorch.org/whl/cu118/torchaudio-2.6.0%2Bcu118-cp311-cp311-linux_x86_64.whl.metadata (6.6 kB)\n",
            "Requirement already satisfied: filelock in /usr/local/lib/python3.11/dist-packages (from torch) (3.17.0)\n",
            "Requirement already satisfied: typing-extensions>=4.10.0 in /usr/local/lib/python3.11/dist-packages (from torch) (4.12.2)\n",
            "Requirement already satisfied: networkx in /usr/local/lib/python3.11/dist-packages (from torch) (3.4.2)\n",
            "Requirement already satisfied: jinja2 in /usr/local/lib/python3.11/dist-packages (from torch) (3.1.5)\n",
            "Requirement already satisfied: fsspec in /usr/local/lib/python3.11/dist-packages (from torch) (2024.10.0)\n",
            "Requirement already satisfied: nvidia-cuda-nvrtc-cu11==11.8.89 in /usr/local/lib/python3.11/dist-packages (from torch) (11.8.89)\n",
            "Requirement already satisfied: nvidia-cuda-runtime-cu11==11.8.89 in /usr/local/lib/python3.11/dist-packages (from torch) (11.8.89)\n",
            "Requirement already satisfied: nvidia-cuda-cupti-cu11==11.8.87 in /usr/local/lib/python3.11/dist-packages (from torch) (11.8.87)\n",
            "Requirement already satisfied: nvidia-cudnn-cu11==9.1.0.70 in /usr/local/lib/python3.11/dist-packages (from torch) (9.1.0.70)\n",
            "Requirement already satisfied: nvidia-cublas-cu11==11.11.3.6 in /usr/local/lib/python3.11/dist-packages (from torch) (11.11.3.6)\n",
            "Requirement already satisfied: nvidia-cufft-cu11==10.9.0.58 in /usr/local/lib/python3.11/dist-packages (from torch) (10.9.0.58)\n",
            "Requirement already satisfied: nvidia-curand-cu11==10.3.0.86 in /usr/local/lib/python3.11/dist-packages (from torch) (10.3.0.86)\n",
            "Requirement already satisfied: nvidia-cusolver-cu11==11.4.1.48 in /usr/local/lib/python3.11/dist-packages (from torch) (11.4.1.48)\n",
            "Requirement already satisfied: nvidia-cusparse-cu11==11.7.5.86 in /usr/local/lib/python3.11/dist-packages (from torch) (11.7.5.86)\n",
            "Requirement already satisfied: nvidia-nccl-cu11==2.21.5 in /usr/local/lib/python3.11/dist-packages (from torch) (2.21.5)\n",
            "Requirement already satisfied: nvidia-nvtx-cu11==11.8.86 in /usr/local/lib/python3.11/dist-packages (from torch) (11.8.86)\n",
            "Requirement already satisfied: triton==3.2.0 in /usr/local/lib/python3.11/dist-packages (from torch) (3.2.0)\n",
            "Requirement already satisfied: sympy==1.13.1 in /usr/local/lib/python3.11/dist-packages (from torch) (1.13.1)\n",
            "Requirement already satisfied: mpmath<1.4,>=1.1.0 in /usr/local/lib/python3.11/dist-packages (from sympy==1.13.1->torch) (1.3.0)\n",
            "Requirement already satisfied: numpy in /usr/local/lib/python3.11/dist-packages (from torchvision) (1.26.4)\n",
            "Requirement already satisfied: pillow!=8.3.*,>=5.3.0 in /usr/local/lib/python3.11/dist-packages (from torchvision) (11.1.0)\n",
            "Requirement already satisfied: MarkupSafe>=2.0 in /usr/local/lib/python3.11/dist-packages (from jinja2->torch) (3.0.2)\n",
            "Using cached https://download.pytorch.org/whl/cu118/torch-2.6.0%2Bcu118-cp311-cp311-linux_x86_64.whl (848.7 MB)\n",
            "Using cached https://download.pytorch.org/whl/cu118/torchvision-0.21.0%2Bcu118-cp311-cp311-linux_x86_64.whl (6.5 MB)\n",
            "Using cached https://download.pytorch.org/whl/cu118/torchaudio-2.6.0%2Bcu118-cp311-cp311-linux_x86_64.whl (3.3 MB)\n",
            "Installing collected packages: torch, torchvision, torchaudio\n",
            "\u001b[31mERROR: pip's dependency resolver does not currently take into account all the packages that are installed. This behaviour is the source of the following dependency conflicts.\n",
            "fastai 2.7.18 requires torch<2.6,>=1.10, but you have torch 2.6.0+cu118 which is incompatible.\u001b[0m\u001b[31m\n",
            "\u001b[0mSuccessfully installed torch-2.6.0+cu118 torchaudio-2.6.0+cu118 torchvision-0.21.0+cu118\n"
          ]
        },
        {
          "output_type": "display_data",
          "data": {
            "application/vnd.colab-display-data+json": {
              "pip_warning": {
                "packages": [
                  "torch",
                  "torchgen",
                  "torchvision"
                ]
              },
              "id": "83b819a694d94039b1e189cb92d6b4bb"
            }
          },
          "metadata": {}
        },
        {
          "output_type": "stream",
          "name": "stdout",
          "text": [
            "Collecting ultralytics\n",
            "  Using cached ultralytics-8.3.70-py3-none-any.whl.metadata (35 kB)\n",
            "Requirement already satisfied: numpy<=2.1.1,>=1.23.0 in /usr/local/lib/python3.11/dist-packages (from ultralytics) (1.26.4)\n",
            "Requirement already satisfied: matplotlib>=3.3.0 in /usr/local/lib/python3.11/dist-packages (from ultralytics) (3.10.0)\n",
            "Requirement already satisfied: opencv-python>=4.6.0 in /usr/local/lib/python3.11/dist-packages (from ultralytics) (4.10.0.84)\n",
            "Requirement already satisfied: pillow>=7.1.2 in /usr/local/lib/python3.11/dist-packages (from ultralytics) (11.1.0)\n",
            "Requirement already satisfied: pyyaml>=5.3.1 in /usr/local/lib/python3.11/dist-packages (from ultralytics) (6.0.2)\n",
            "Requirement already satisfied: requests>=2.23.0 in /usr/local/lib/python3.11/dist-packages (from ultralytics) (2.32.3)\n",
            "Requirement already satisfied: scipy>=1.4.1 in /usr/local/lib/python3.11/dist-packages (from ultralytics) (1.13.1)\n",
            "Requirement already satisfied: torch>=1.8.0 in /usr/local/lib/python3.11/dist-packages (from ultralytics) (2.6.0+cu118)\n",
            "Requirement already satisfied: torchvision>=0.9.0 in /usr/local/lib/python3.11/dist-packages (from ultralytics) (0.21.0+cu118)\n",
            "Requirement already satisfied: tqdm>=4.64.0 in /usr/local/lib/python3.11/dist-packages (from ultralytics) (4.67.1)\n",
            "Requirement already satisfied: psutil in /usr/local/lib/python3.11/dist-packages (from ultralytics) (5.9.5)\n",
            "Requirement already satisfied: py-cpuinfo in /usr/local/lib/python3.11/dist-packages (from ultralytics) (9.0.0)\n",
            "Requirement already satisfied: pandas>=1.1.4 in /usr/local/lib/python3.11/dist-packages (from ultralytics) (2.2.2)\n",
            "Requirement already satisfied: seaborn>=0.11.0 in /usr/local/lib/python3.11/dist-packages (from ultralytics) (0.13.2)\n",
            "Requirement already satisfied: ultralytics-thop>=2.0.0 in /usr/local/lib/python3.11/dist-packages (from ultralytics) (2.0.14)\n",
            "Requirement already satisfied: contourpy>=1.0.1 in /usr/local/lib/python3.11/dist-packages (from matplotlib>=3.3.0->ultralytics) (1.3.1)\n",
            "Requirement already satisfied: cycler>=0.10 in /usr/local/lib/python3.11/dist-packages (from matplotlib>=3.3.0->ultralytics) (0.12.1)\n",
            "Requirement already satisfied: fonttools>=4.22.0 in /usr/local/lib/python3.11/dist-packages (from matplotlib>=3.3.0->ultralytics) (4.55.7)\n",
            "Requirement already satisfied: kiwisolver>=1.3.1 in /usr/local/lib/python3.11/dist-packages (from matplotlib>=3.3.0->ultralytics) (1.4.8)\n",
            "Requirement already satisfied: packaging>=20.0 in /usr/local/lib/python3.11/dist-packages (from matplotlib>=3.3.0->ultralytics) (24.2)\n",
            "Requirement already satisfied: pyparsing>=2.3.1 in /usr/local/lib/python3.11/dist-packages (from matplotlib>=3.3.0->ultralytics) (3.2.1)\n",
            "Requirement already satisfied: python-dateutil>=2.7 in /usr/local/lib/python3.11/dist-packages (from matplotlib>=3.3.0->ultralytics) (2.8.2)\n",
            "Requirement already satisfied: pytz>=2020.1 in /usr/local/lib/python3.11/dist-packages (from pandas>=1.1.4->ultralytics) (2024.2)\n",
            "Requirement already satisfied: tzdata>=2022.7 in /usr/local/lib/python3.11/dist-packages (from pandas>=1.1.4->ultralytics) (2025.1)\n",
            "Requirement already satisfied: charset-normalizer<4,>=2 in /usr/local/lib/python3.11/dist-packages (from requests>=2.23.0->ultralytics) (3.4.1)\n",
            "Requirement already satisfied: idna<4,>=2.5 in /usr/local/lib/python3.11/dist-packages (from requests>=2.23.0->ultralytics) (3.10)\n",
            "Requirement already satisfied: urllib3<3,>=1.21.1 in /usr/local/lib/python3.11/dist-packages (from requests>=2.23.0->ultralytics) (2.3.0)\n",
            "Requirement already satisfied: certifi>=2017.4.17 in /usr/local/lib/python3.11/dist-packages (from requests>=2.23.0->ultralytics) (2024.12.14)\n",
            "Requirement already satisfied: filelock in /usr/local/lib/python3.11/dist-packages (from torch>=1.8.0->ultralytics) (3.17.0)\n",
            "Requirement already satisfied: typing-extensions>=4.10.0 in /usr/local/lib/python3.11/dist-packages (from torch>=1.8.0->ultralytics) (4.12.2)\n",
            "Requirement already satisfied: networkx in /usr/local/lib/python3.11/dist-packages (from torch>=1.8.0->ultralytics) (3.4.2)\n",
            "Requirement already satisfied: jinja2 in /usr/local/lib/python3.11/dist-packages (from torch>=1.8.0->ultralytics) (3.1.5)\n",
            "Requirement already satisfied: fsspec in /usr/local/lib/python3.11/dist-packages (from torch>=1.8.0->ultralytics) (2024.10.0)\n",
            "Requirement already satisfied: nvidia-cuda-nvrtc-cu11==11.8.89 in /usr/local/lib/python3.11/dist-packages (from torch>=1.8.0->ultralytics) (11.8.89)\n",
            "Requirement already satisfied: nvidia-cuda-runtime-cu11==11.8.89 in /usr/local/lib/python3.11/dist-packages (from torch>=1.8.0->ultralytics) (11.8.89)\n",
            "Requirement already satisfied: nvidia-cuda-cupti-cu11==11.8.87 in /usr/local/lib/python3.11/dist-packages (from torch>=1.8.0->ultralytics) (11.8.87)\n",
            "Requirement already satisfied: nvidia-cudnn-cu11==9.1.0.70 in /usr/local/lib/python3.11/dist-packages (from torch>=1.8.0->ultralytics) (9.1.0.70)\n",
            "Requirement already satisfied: nvidia-cublas-cu11==11.11.3.6 in /usr/local/lib/python3.11/dist-packages (from torch>=1.8.0->ultralytics) (11.11.3.6)\n",
            "Requirement already satisfied: nvidia-cufft-cu11==10.9.0.58 in /usr/local/lib/python3.11/dist-packages (from torch>=1.8.0->ultralytics) (10.9.0.58)\n",
            "Requirement already satisfied: nvidia-curand-cu11==10.3.0.86 in /usr/local/lib/python3.11/dist-packages (from torch>=1.8.0->ultralytics) (10.3.0.86)\n",
            "Requirement already satisfied: nvidia-cusolver-cu11==11.4.1.48 in /usr/local/lib/python3.11/dist-packages (from torch>=1.8.0->ultralytics) (11.4.1.48)\n",
            "Requirement already satisfied: nvidia-cusparse-cu11==11.7.5.86 in /usr/local/lib/python3.11/dist-packages (from torch>=1.8.0->ultralytics) (11.7.5.86)\n",
            "Requirement already satisfied: nvidia-nccl-cu11==2.21.5 in /usr/local/lib/python3.11/dist-packages (from torch>=1.8.0->ultralytics) (2.21.5)\n",
            "Requirement already satisfied: nvidia-nvtx-cu11==11.8.86 in /usr/local/lib/python3.11/dist-packages (from torch>=1.8.0->ultralytics) (11.8.86)\n",
            "Requirement already satisfied: triton==3.2.0 in /usr/local/lib/python3.11/dist-packages (from torch>=1.8.0->ultralytics) (3.2.0)\n",
            "Requirement already satisfied: sympy==1.13.1 in /usr/local/lib/python3.11/dist-packages (from torch>=1.8.0->ultralytics) (1.13.1)\n",
            "Requirement already satisfied: mpmath<1.4,>=1.1.0 in /usr/local/lib/python3.11/dist-packages (from sympy==1.13.1->torch>=1.8.0->ultralytics) (1.3.0)\n",
            "Requirement already satisfied: six>=1.5 in /usr/local/lib/python3.11/dist-packages (from python-dateutil>=2.7->matplotlib>=3.3.0->ultralytics) (1.17.0)\n",
            "Requirement already satisfied: MarkupSafe>=2.0 in /usr/local/lib/python3.11/dist-packages (from jinja2->torch>=1.8.0->ultralytics) (3.0.2)\n",
            "Using cached ultralytics-8.3.70-py3-none-any.whl (914 kB)\n",
            "Installing collected packages: ultralytics\n",
            "Successfully installed ultralytics-8.3.70\n"
          ]
        }
      ]
    },
    {
      "cell_type": "code",
      "source": [
        "def train_yolo_model(dataset_yaml):\n",
        "    yolo_model = YOLO(\"yolov5s.pt\")\n",
        "    results = yolo_model.train(\n",
        "        data=dataset_yaml,\n",
        "        epochs=15,\n",
        "        batch=BATCH_SIZE\n",
        "    )\n",
        "    return results\n",
        "\n",
        "test_accuracies_yolo5 = []\n",
        "\n",
        "for split_idx, (train_imgs, train_labels, val_imgs, val_labels, test_imgs, test_labels) in enumerate(splits):\n",
        "    print(f\"\\n Training YOLOv5 on Dataset Split {split_idx + 1}...\\n\")\n",
        "\n",
        "    dataset_yaml = prepare_yolo_dataset(train_imgs, val_imgs, test_imgs, train_labels, val_labels, test_labels)\n",
        "\n",
        "    results = train_yolo_model(dataset_yaml)\n",
        "\n",
        "    test_accuracies_yolo5.append(results.fitness)\n",
        "\n",
        "print(f\"\\n Final YOLOv5 Test Accuracies: {test_accuracies_yolo5}\")\n"
      ],
      "metadata": {
        "id": "Nd2nsHbDnnKH",
        "colab": {
          "base_uri": "https://localhost:8080/"
        },
        "outputId": "c4885a65-8e7b-4127-9f98-1347b188c97f"
      },
      "execution_count": 17,
      "outputs": [
        {
          "output_type": "stream",
          "name": "stdout",
          "text": [
            "\n",
            " Training YOLOv5 on Dataset Split 1...\n",
            "\n",
            "PRO TIP 💡 Replace 'model=yolov5s.pt' with new 'model=yolov5su.pt'.\n",
            "YOLOv5 'u' models are trained with https://github.com/ultralytics/ultralytics and feature improved performance vs standard YOLOv5 models trained with https://github.com/ultralytics/yolov5.\n",
            "\n",
            "Ultralytics 8.3.70 🚀 Python-3.11.11 torch-2.6.0+cu118 CUDA:0 (Tesla T4, 15095MiB)\n",
            "\u001b[34m\u001b[1mengine/trainer: \u001b[0mtask=detect, mode=train, model=yolov5s.pt, data=yolo_flower_dataset/dataset.yaml, epochs=15, time=None, patience=100, batch=32, imgsz=640, save=True, save_period=-1, cache=False, device=None, workers=8, project=None, name=train4, exist_ok=False, pretrained=True, optimizer=auto, verbose=True, seed=0, deterministic=True, single_cls=False, rect=False, cos_lr=False, close_mosaic=10, resume=False, amp=True, fraction=1.0, profile=False, freeze=None, multi_scale=False, overlap_mask=True, mask_ratio=4, dropout=0.0, val=True, split=val, save_json=False, save_hybrid=False, conf=None, iou=0.7, max_det=300, half=False, dnn=False, plots=True, source=None, vid_stride=1, stream_buffer=False, visualize=False, augment=False, agnostic_nms=False, classes=None, retina_masks=False, embed=None, show=False, save_frames=False, save_txt=False, save_conf=False, save_crop=False, show_labels=True, show_conf=True, show_boxes=True, line_width=None, format=torchscript, keras=False, optimize=False, int8=False, dynamic=False, simplify=True, opset=None, workspace=None, nms=False, lr0=0.01, lrf=0.01, momentum=0.937, weight_decay=0.0005, warmup_epochs=3.0, warmup_momentum=0.8, warmup_bias_lr=0.1, box=7.5, cls=0.5, dfl=1.5, pose=12.0, kobj=1.0, nbs=64, hsv_h=0.015, hsv_s=0.7, hsv_v=0.4, degrees=0.0, translate=0.1, scale=0.5, shear=0.0, perspective=0.0, flipud=0.0, fliplr=0.5, bgr=0.0, mosaic=1.0, mixup=0.0, copy_paste=0.0, copy_paste_mode=flip, auto_augment=randaugment, erasing=0.4, crop_fraction=1.0, cfg=None, tracker=botsort.yaml, save_dir=runs/detect/train4\n",
            "Overriding model.yaml nc=80 with nc=102\n",
            "\n",
            "                   from  n    params  module                                       arguments                     \n",
            "  0                  -1  1      3520  ultralytics.nn.modules.conv.Conv             [3, 32, 6, 2, 2]              \n",
            "  1                  -1  1     18560  ultralytics.nn.modules.conv.Conv             [32, 64, 3, 2]                \n",
            "  2                  -1  1     18816  ultralytics.nn.modules.block.C3              [64, 64, 1]                   \n",
            "  3                  -1  1     73984  ultralytics.nn.modules.conv.Conv             [64, 128, 3, 2]               \n",
            "  4                  -1  2    115712  ultralytics.nn.modules.block.C3              [128, 128, 2]                 \n",
            "  5                  -1  1    295424  ultralytics.nn.modules.conv.Conv             [128, 256, 3, 2]              \n",
            "  6                  -1  3    625152  ultralytics.nn.modules.block.C3              [256, 256, 3]                 \n",
            "  7                  -1  1   1180672  ultralytics.nn.modules.conv.Conv             [256, 512, 3, 2]              \n",
            "  8                  -1  1   1182720  ultralytics.nn.modules.block.C3              [512, 512, 1]                 \n",
            "  9                  -1  1    656896  ultralytics.nn.modules.block.SPPF            [512, 512, 5]                 \n",
            " 10                  -1  1    131584  ultralytics.nn.modules.conv.Conv             [512, 256, 1, 1]              \n",
            " 11                  -1  1         0  torch.nn.modules.upsampling.Upsample         [None, 2, 'nearest']          \n",
            " 12             [-1, 6]  1         0  ultralytics.nn.modules.conv.Concat           [1]                           \n",
            " 13                  -1  1    361984  ultralytics.nn.modules.block.C3              [512, 256, 1, False]          \n",
            " 14                  -1  1     33024  ultralytics.nn.modules.conv.Conv             [256, 128, 1, 1]              \n",
            " 15                  -1  1         0  torch.nn.modules.upsampling.Upsample         [None, 2, 'nearest']          \n",
            " 16             [-1, 4]  1         0  ultralytics.nn.modules.conv.Concat           [1]                           \n",
            " 17                  -1  1     90880  ultralytics.nn.modules.block.C3              [256, 128, 1, False]          \n",
            " 18                  -1  1    147712  ultralytics.nn.modules.conv.Conv             [128, 128, 3, 2]              \n",
            " 19            [-1, 14]  1         0  ultralytics.nn.modules.conv.Concat           [1]                           \n",
            " 20                  -1  1    296448  ultralytics.nn.modules.block.C3              [256, 256, 1, False]          \n",
            " 21                  -1  1    590336  ultralytics.nn.modules.conv.Conv             [256, 256, 3, 2]              \n",
            " 22            [-1, 10]  1         0  ultralytics.nn.modules.conv.Concat           [1]                           \n",
            " 23                  -1  1   1182720  ultralytics.nn.modules.block.C3              [512, 512, 1, False]          \n",
            " 24        [17, 20, 23]  1   2155522  ultralytics.nn.modules.head.Detect           [102, [128, 256, 512]]        \n",
            "YOLOv5s summary: 262 layers, 9,161,666 parameters, 9,161,650 gradients, 24.3 GFLOPs\n",
            "\n",
            "Transferred 421/427 items from pretrained weights\n",
            "\u001b[34m\u001b[1mTensorBoard: \u001b[0mStart with 'tensorboard --logdir runs/detect/train4', view at http://localhost:6006/\n",
            "Freezing layer 'model.24.dfl.conv.weight'\n",
            "\u001b[34m\u001b[1mAMP: \u001b[0mrunning Automatic Mixed Precision (AMP) checks...\n",
            "\u001b[34m\u001b[1mAMP: \u001b[0mchecks passed ✅\n"
          ]
        },
        {
          "output_type": "stream",
          "name": "stderr",
          "text": [
            "\u001b[34m\u001b[1mtrain: \u001b[0mScanning /content/yolo_flower_dataset/train/labels.cache... 4094 images, 0 backgrounds, 0 corrupt: 100%|██████████| 4094/4094 [00:00<?, ?it/s]"
          ]
        },
        {
          "output_type": "stream",
          "name": "stdout",
          "text": [
            "\u001b[34m\u001b[1malbumentations: \u001b[0mBlur(p=0.01, blur_limit=(3, 7)), MedianBlur(p=0.01, blur_limit=(3, 7)), ToGray(p=0.01, num_output_channels=3, method='weighted_average'), CLAHE(p=0.01, clip_limit=(1.0, 4.0), tile_grid_size=(8, 8))\n"
          ]
        },
        {
          "output_type": "stream",
          "name": "stderr",
          "text": [
            "\n",
            "\u001b[34m\u001b[1mval: \u001b[0mScanning /content/yolo_flower_dataset/val/labels.cache... 2047 images, 0 backgrounds, 0 corrupt: 100%|██████████| 2047/2047 [00:00<?, ?it/s]\n"
          ]
        },
        {
          "output_type": "stream",
          "name": "stdout",
          "text": [
            "Plotting labels to runs/detect/train4/labels.jpg... \n",
            "\u001b[34m\u001b[1moptimizer:\u001b[0m 'optimizer=auto' found, ignoring 'lr0=0.01' and 'momentum=0.937' and determining best 'optimizer', 'lr0' and 'momentum' automatically... \n",
            "\u001b[34m\u001b[1moptimizer:\u001b[0m AdamW(lr=9.4e-05, momentum=0.9) with parameter groups 69 weight(decay=0.0), 76 weight(decay=0.0005), 75 bias(decay=0.0)\n",
            "\u001b[34m\u001b[1mTensorBoard: \u001b[0mmodel graph visualization added ✅\n",
            "Image sizes 640 train, 640 val\n",
            "Using 2 dataloader workers\n",
            "Logging results to \u001b[1mruns/detect/train4\u001b[0m\n",
            "Starting training for 15 epochs...\n",
            "\n",
            "      Epoch    GPU_mem   box_loss   cls_loss   dfl_loss  Instances       Size\n"
          ]
        },
        {
          "output_type": "stream",
          "name": "stderr",
          "text": [
            "       1/15      8.14G      1.355      4.894      1.935         75        640: 100%|██████████| 128/128 [01:53<00:00,  1.13it/s]\n",
            "                 Class     Images  Instances      Box(P          R      mAP50  mAP50-95): 100%|██████████| 32/32 [00:27<00:00,  1.18it/s]\n"
          ]
        },
        {
          "output_type": "stream",
          "name": "stdout",
          "text": [
            "                   all       2047       2047      0.554     0.0937     0.0931     0.0765\n",
            "\n",
            "      Epoch    GPU_mem   box_loss   cls_loss   dfl_loss  Instances       Size\n"
          ]
        },
        {
          "output_type": "stream",
          "name": "stderr",
          "text": [
            "       2/15      7.98G     0.6659       3.06      1.217         88        640: 100%|██████████| 128/128 [01:35<00:00,  1.34it/s]\n",
            "                 Class     Images  Instances      Box(P          R      mAP50  mAP50-95): 100%|██████████| 32/32 [00:24<00:00,  1.30it/s]\n"
          ]
        },
        {
          "output_type": "stream",
          "name": "stdout",
          "text": [
            "                   all       2047       2047      0.468      0.386      0.408       0.38\n",
            "\n",
            "      Epoch    GPU_mem   box_loss   cls_loss   dfl_loss  Instances       Size\n"
          ]
        },
        {
          "output_type": "stream",
          "name": "stderr",
          "text": [
            "       3/15      7.98G     0.5883      2.244      1.156         76        640: 100%|██████████| 128/128 [01:35<00:00,  1.35it/s]\n",
            "                 Class     Images  Instances      Box(P          R      mAP50  mAP50-95): 100%|██████████| 32/32 [00:23<00:00,  1.39it/s]"
          ]
        },
        {
          "output_type": "stream",
          "name": "stdout",
          "text": [
            "                   all       2047       2047      0.612      0.623      0.655       0.62\n"
          ]
        },
        {
          "output_type": "stream",
          "name": "stderr",
          "text": [
            "\n"
          ]
        },
        {
          "output_type": "stream",
          "name": "stdout",
          "text": [
            "\n",
            "      Epoch    GPU_mem   box_loss   cls_loss   dfl_loss  Instances       Size\n"
          ]
        },
        {
          "output_type": "stream",
          "name": "stderr",
          "text": [
            "       4/15      7.98G     0.5482      1.796      1.123         72        640: 100%|██████████| 128/128 [01:38<00:00,  1.30it/s]\n",
            "                 Class     Images  Instances      Box(P          R      mAP50  mAP50-95): 100%|██████████| 32/32 [00:21<00:00,  1.46it/s]"
          ]
        },
        {
          "output_type": "stream",
          "name": "stdout",
          "text": [
            "                   all       2047       2047      0.769      0.676       0.79      0.766\n"
          ]
        },
        {
          "output_type": "stream",
          "name": "stderr",
          "text": [
            "\n"
          ]
        },
        {
          "output_type": "stream",
          "name": "stdout",
          "text": [
            "\n",
            "      Epoch    GPU_mem   box_loss   cls_loss   dfl_loss  Instances       Size\n"
          ]
        },
        {
          "output_type": "stream",
          "name": "stderr",
          "text": [
            "       5/15      7.98G     0.5133      1.492      1.098         75        640: 100%|██████████| 128/128 [01:37<00:00,  1.31it/s]\n",
            "                 Class     Images  Instances      Box(P          R      mAP50  mAP50-95): 100%|██████████| 32/32 [00:21<00:00,  1.48it/s]"
          ]
        },
        {
          "output_type": "stream",
          "name": "stdout",
          "text": [
            "                   all       2047       2047      0.796      0.789      0.853      0.824\n"
          ]
        },
        {
          "output_type": "stream",
          "name": "stderr",
          "text": [
            "\n"
          ]
        },
        {
          "output_type": "stream",
          "name": "stdout",
          "text": [
            "Closing dataloader mosaic\n",
            "\u001b[34m\u001b[1malbumentations: \u001b[0mBlur(p=0.01, blur_limit=(3, 7)), MedianBlur(p=0.01, blur_limit=(3, 7)), ToGray(p=0.01, num_output_channels=3, method='weighted_average'), CLAHE(p=0.01, clip_limit=(1.0, 4.0), tile_grid_size=(8, 8))\n",
            "\n",
            "      Epoch    GPU_mem   box_loss   cls_loss   dfl_loss  Instances       Size\n"
          ]
        },
        {
          "output_type": "stream",
          "name": "stderr",
          "text": [
            "       6/15      7.98G     0.4553      1.348      1.203         30        640: 100%|██████████| 128/128 [01:33<00:00,  1.37it/s]\n",
            "                 Class     Images  Instances      Box(P          R      mAP50  mAP50-95): 100%|██████████| 32/32 [00:23<00:00,  1.38it/s]\n"
          ]
        },
        {
          "output_type": "stream",
          "name": "stdout",
          "text": [
            "                   all       2047       2047      0.814       0.81      0.885      0.881\n",
            "\n",
            "      Epoch    GPU_mem   box_loss   cls_loss   dfl_loss  Instances       Size\n"
          ]
        },
        {
          "output_type": "stream",
          "name": "stderr",
          "text": [
            "       7/15      7.98G     0.3898      1.028      1.138         30        640: 100%|██████████| 128/128 [01:30<00:00,  1.42it/s]\n",
            "                 Class     Images  Instances      Box(P          R      mAP50  mAP50-95): 100%|██████████| 32/32 [00:21<00:00,  1.49it/s]"
          ]
        },
        {
          "output_type": "stream",
          "name": "stdout",
          "text": [
            "                   all       2047       2047      0.819      0.819       0.89      0.887\n"
          ]
        },
        {
          "output_type": "stream",
          "name": "stderr",
          "text": [
            "\n"
          ]
        },
        {
          "output_type": "stream",
          "name": "stdout",
          "text": [
            "\n",
            "      Epoch    GPU_mem   box_loss   cls_loss   dfl_loss  Instances       Size\n"
          ]
        },
        {
          "output_type": "stream",
          "name": "stderr",
          "text": [
            "       8/15      7.98G     0.3617     0.8643      1.107         30        640: 100%|██████████| 128/128 [01:28<00:00,  1.44it/s]\n",
            "                 Class     Images  Instances      Box(P          R      mAP50  mAP50-95): 100%|██████████| 32/32 [00:22<00:00,  1.40it/s]\n"
          ]
        },
        {
          "output_type": "stream",
          "name": "stdout",
          "text": [
            "                   all       2047       2047      0.904      0.845      0.929      0.927\n",
            "\n",
            "      Epoch    GPU_mem   box_loss   cls_loss   dfl_loss  Instances       Size\n"
          ]
        },
        {
          "output_type": "stream",
          "name": "stderr",
          "text": [
            "       9/15      7.98G     0.3435      0.738      1.093         30        640: 100%|██████████| 128/128 [01:28<00:00,  1.45it/s]\n",
            "                 Class     Images  Instances      Box(P          R      mAP50  mAP50-95): 100%|██████████| 32/32 [00:20<00:00,  1.53it/s]"
          ]
        },
        {
          "output_type": "stream",
          "name": "stdout",
          "text": [
            "                   all       2047       2047      0.909      0.872      0.941       0.94\n"
          ]
        },
        {
          "output_type": "stream",
          "name": "stderr",
          "text": [
            "\n"
          ]
        },
        {
          "output_type": "stream",
          "name": "stdout",
          "text": [
            "\n",
            "      Epoch    GPU_mem   box_loss   cls_loss   dfl_loss  Instances       Size\n"
          ]
        },
        {
          "output_type": "stream",
          "name": "stderr",
          "text": [
            "      10/15      7.98G     0.3393     0.6578      1.084         30        640: 100%|██████████| 128/128 [01:26<00:00,  1.48it/s]\n",
            "                 Class     Images  Instances      Box(P          R      mAP50  mAP50-95): 100%|██████████| 32/32 [00:21<00:00,  1.49it/s]\n"
          ]
        },
        {
          "output_type": "stream",
          "name": "stdout",
          "text": [
            "                   all       2047       2047      0.925      0.882      0.953      0.952\n",
            "\n",
            "      Epoch    GPU_mem   box_loss   cls_loss   dfl_loss  Instances       Size\n"
          ]
        },
        {
          "output_type": "stream",
          "name": "stderr",
          "text": [
            "      11/15      7.98G     0.3298     0.5866      1.078         30        640: 100%|██████████| 128/128 [01:28<00:00,  1.44it/s]\n",
            "                 Class     Images  Instances      Box(P          R      mAP50  mAP50-95): 100%|██████████| 32/32 [00:21<00:00,  1.48it/s]"
          ]
        },
        {
          "output_type": "stream",
          "name": "stdout",
          "text": [
            "                   all       2047       2047      0.923      0.893      0.956      0.955\n"
          ]
        },
        {
          "output_type": "stream",
          "name": "stderr",
          "text": [
            "\n"
          ]
        },
        {
          "output_type": "stream",
          "name": "stdout",
          "text": [
            "\n",
            "      Epoch    GPU_mem   box_loss   cls_loss   dfl_loss  Instances       Size\n"
          ]
        },
        {
          "output_type": "stream",
          "name": "stderr",
          "text": [
            "      12/15      7.98G     0.3247     0.5342      1.079         30        640: 100%|██████████| 128/128 [01:27<00:00,  1.47it/s]\n",
            "                 Class     Images  Instances      Box(P          R      mAP50  mAP50-95): 100%|██████████| 32/32 [00:20<00:00,  1.53it/s]"
          ]
        },
        {
          "output_type": "stream",
          "name": "stdout",
          "text": [
            "                   all       2047       2047      0.922      0.899      0.958      0.957\n"
          ]
        },
        {
          "output_type": "stream",
          "name": "stderr",
          "text": [
            "\n"
          ]
        },
        {
          "output_type": "stream",
          "name": "stdout",
          "text": [
            "\n",
            "      Epoch    GPU_mem   box_loss   cls_loss   dfl_loss  Instances       Size\n"
          ]
        },
        {
          "output_type": "stream",
          "name": "stderr",
          "text": [
            "      13/15      7.98G     0.3162     0.4879      1.072         30        640: 100%|██████████| 128/128 [01:29<00:00,  1.43it/s]\n",
            "                 Class     Images  Instances      Box(P          R      mAP50  mAP50-95): 100%|██████████| 32/32 [00:20<00:00,  1.53it/s]"
          ]
        },
        {
          "output_type": "stream",
          "name": "stdout",
          "text": [
            "                   all       2047       2047      0.943      0.895      0.959      0.959\n"
          ]
        },
        {
          "output_type": "stream",
          "name": "stderr",
          "text": [
            "\n"
          ]
        },
        {
          "output_type": "stream",
          "name": "stdout",
          "text": [
            "\n",
            "      Epoch    GPU_mem   box_loss   cls_loss   dfl_loss  Instances       Size\n"
          ]
        },
        {
          "output_type": "stream",
          "name": "stderr",
          "text": [
            "      14/15      7.98G     0.3092     0.4617      1.065         30        640: 100%|██████████| 128/128 [01:26<00:00,  1.48it/s]\n",
            "                 Class     Images  Instances      Box(P          R      mAP50  mAP50-95): 100%|██████████| 32/32 [00:21<00:00,  1.51it/s]"
          ]
        },
        {
          "output_type": "stream",
          "name": "stdout",
          "text": [
            "                   all       2047       2047      0.946      0.905      0.964      0.964\n"
          ]
        },
        {
          "output_type": "stream",
          "name": "stderr",
          "text": [
            "\n"
          ]
        },
        {
          "output_type": "stream",
          "name": "stdout",
          "text": [
            "\n",
            "      Epoch    GPU_mem   box_loss   cls_loss   dfl_loss  Instances       Size\n"
          ]
        },
        {
          "output_type": "stream",
          "name": "stderr",
          "text": [
            "      15/15      7.98G     0.3053     0.4409      1.063         30        640: 100%|██████████| 128/128 [01:30<00:00,  1.41it/s]\n",
            "                 Class     Images  Instances      Box(P          R      mAP50  mAP50-95): 100%|██████████| 32/32 [00:21<00:00,  1.46it/s]\n"
          ]
        },
        {
          "output_type": "stream",
          "name": "stdout",
          "text": [
            "                   all       2047       2047      0.937      0.915      0.966      0.965\n",
            "\n",
            "15 epochs completed in 0.489 hours.\n",
            "Optimizer stripped from runs/detect/train4/weights/last.pt, 18.6MB\n",
            "Optimizer stripped from runs/detect/train4/weights/best.pt, 18.6MB\n",
            "\n",
            "Validating runs/detect/train4/weights/best.pt...\n",
            "Ultralytics 8.3.70 🚀 Python-3.11.11 torch-2.6.0+cu118 CUDA:0 (Tesla T4, 15095MiB)\n",
            "YOLOv5s summary (fused): 193 layers, 9,151,010 parameters, 0 gradients, 24.0 GFLOPs\n"
          ]
        },
        {
          "output_type": "stream",
          "name": "stderr",
          "text": [
            "                 Class     Images  Instances      Box(P          R      mAP50  mAP50-95): 100%|██████████| 32/32 [00:25<00:00,  1.25it/s]\n"
          ]
        },
        {
          "output_type": "stream",
          "name": "stdout",
          "text": [
            "                   all       2047       2047      0.937      0.914      0.966      0.965\n",
            "               class_0         10         10          1      0.885      0.986      0.986\n",
            "               class_1         15         15          1       0.84       0.95       0.95\n",
            "               class_2         10         10      0.846      0.552      0.812      0.812\n",
            "               class_3         14         14      0.944      0.643      0.812      0.812\n",
            "               class_4         16         16          1      0.806      0.971      0.971\n",
            "               class_5         11         11      0.959          1      0.995      0.995\n",
            "               class_6         10         10      0.905      0.958      0.977      0.977\n",
            "               class_7         21         21      0.979          1      0.995      0.995\n",
            "               class_8         12         12      0.892      0.917      0.904      0.904\n",
            "               class_9         11         11          1      0.818      0.961      0.961\n",
            "              class_10         22         22      0.907      0.883       0.97       0.97\n",
            "              class_11         22         22          1      0.854       0.95       0.95\n",
            "              class_12         12         12      0.839      0.917      0.979      0.979\n",
            "              class_13         12         12      0.827          1      0.995      0.995\n",
            "              class_14         12         12      0.832      0.917      0.961      0.961\n",
            "              class_15         10         10          1      0.738      0.877      0.877\n",
            "              class_16         21         21      0.981          1      0.995      0.995\n",
            "              class_17         20         20          1      0.926      0.974      0.974\n",
            "              class_18         12         12      0.794      0.833      0.897      0.897\n",
            "              class_19         14         14      0.862      0.896      0.937      0.937\n",
            "              class_20         10         10          1      0.837      0.972      0.972\n",
            "              class_21         15         15      0.955      0.867      0.987      0.987\n",
            "              class_22         23         23      0.932          1      0.992      0.992\n",
            "              class_23         11         11      0.901      0.909      0.946      0.946\n",
            "              class_24         10         10      0.977          1      0.995      0.995\n",
            "              class_25         10         10      0.929        0.9      0.986      0.986\n",
            "              class_26         10         10      0.894        0.8      0.977      0.977\n",
            "              class_27         17         17      0.766          1       0.98       0.98\n",
            "              class_28         19         19       0.94      0.832      0.966      0.966\n",
            "              class_29         21         21      0.908      0.905       0.97       0.97\n",
            "              class_30         13         13      0.771      0.777      0.924      0.887\n",
            "              class_31         11         11      0.968      0.727      0.932      0.932\n",
            "              class_32         12         12      0.968          1      0.995      0.995\n",
            "              class_33         10         10      0.931        0.9      0.986      0.986\n",
            "              class_34         11         11      0.845          1      0.988      0.988\n",
            "              class_35         19         19      0.945      0.913      0.977      0.977\n",
            "              class_36         27         27      0.984      0.963      0.993      0.993\n",
            "              class_37         14         14      0.931      0.959       0.99       0.99\n",
            "              class_38         10         10      0.805        0.8      0.864      0.864\n",
            "              class_39         17         17          1      0.646      0.844      0.844\n",
            "              class_40         32         32        0.9      0.969      0.979      0.979\n",
            "              class_41         15         15          1      0.785      0.954      0.954\n",
            "              class_42         32         32      0.815      0.938      0.934      0.934\n",
            "              class_43         23         23      0.981      0.957       0.99       0.99\n",
            "              class_44         10         10      0.721        0.9      0.962      0.962\n",
            "              class_45         49         49      0.978          1      0.993      0.993\n",
            "              class_46         17         17      0.971          1      0.995      0.995\n",
            "              class_47         18         18      0.851      0.889      0.931      0.931\n",
            "              class_48         12         12      0.964          1      0.995      0.995\n",
            "              class_49         23         23      0.978      0.957      0.993      0.993\n",
            "              class_50         64         64          1      0.968      0.993      0.993\n",
            "              class_51         21         21      0.981          1      0.995      0.995\n",
            "              class_52         23         23          1      0.987      0.995      0.995\n",
            "              class_53         15         15      0.971          1      0.995      0.995\n",
            "              class_54         18         18      0.937      0.778      0.973      0.973\n",
            "              class_55         27         27       0.98          1      0.995      0.995\n",
            "              class_56         17         17       0.97      0.941      0.979      0.979\n",
            "              class_57         28         28      0.981          1      0.995      0.995\n",
            "              class_58         17         17      0.977          1      0.995      0.995\n",
            "              class_59         27         27      0.982          1      0.995      0.995\n",
            "              class_60         13         13      0.959          1      0.995      0.995\n",
            "              class_61         14         14      0.914      0.758      0.887      0.887\n",
            "              class_62         14         14      0.968          1      0.995      0.995\n",
            "              class_63         13         13      0.949          1      0.995      0.995\n",
            "              class_64         25         25          1      0.986      0.995      0.995\n",
            "              class_65         15         15      0.876          1      0.995      0.995\n",
            "              class_66         11         11          1      0.733      0.903      0.903\n",
            "              class_67         14         14      0.894          1       0.99       0.99\n",
            "              class_68         14         14      0.945      0.857      0.942      0.942\n",
            "              class_69         16         16      0.935      0.897      0.956      0.956\n",
            "              class_70         19         19          1      0.998      0.995      0.995\n",
            "              class_71         24         24      0.951      0.808      0.937      0.937\n",
            "              class_72         48         48      0.985          1      0.995      0.995\n",
            "              class_73         43         43      0.935       0.93      0.986      0.986\n",
            "              class_74         30         30      0.902      0.967      0.978      0.978\n",
            "              class_75         27         27      0.823      0.926       0.97       0.97\n",
            "              class_76         63         63      0.993          1      0.995      0.995\n",
            "              class_77         34         34      0.955          1      0.994      0.994\n",
            "              class_78         10         10      0.954        0.9      0.978      0.978\n",
            "              class_79         26         26      0.975          1      0.995      0.995\n",
            "              class_80         41         41      0.976       0.98      0.995      0.995\n",
            "              class_81         28         28      0.925          1      0.995      0.995\n",
            "              class_82         33         33      0.883      0.914      0.958      0.958\n",
            "              class_83         21         21          1      0.687      0.916      0.916\n",
            "              class_84         16         16      0.935      0.875      0.926      0.926\n",
            "              class_85         15         15      0.981          1      0.995      0.995\n",
            "              class_86         16         16      0.965          1      0.995      0.995\n",
            "              class_87         38         38      0.849      0.947      0.981      0.981\n",
            "              class_88         46         46          1      0.931      0.994      0.994\n",
            "              class_89         20         20      0.916       0.65      0.802      0.802\n",
            "              class_90         19         19          1      0.917      0.993      0.993\n",
            "              class_91         17         17      0.976          1      0.995      0.995\n",
            "              class_92         12         12      0.982      0.917      0.917      0.917\n",
            "              class_93         40         40      0.964          1      0.979      0.979\n",
            "              class_94         32         32      0.951      0.969      0.992      0.992\n",
            "              class_95         23         23      0.879      0.957      0.927      0.927\n",
            "              class_96         17         17      0.928      0.758      0.911      0.911\n",
            "              class_97         20         20      0.999          1      0.995      0.995\n",
            "              class_98         16         16      0.932          1      0.995      0.995\n",
            "              class_99         12         12          1      0.977      0.995      0.995\n",
            "             class_100         15         15      0.849      0.933       0.98       0.98\n",
            "             class_101         12         12      0.964      0.917      0.989      0.989\n",
            "Speed: 0.2ms preprocess, 3.5ms inference, 0.0ms loss, 2.4ms postprocess per image\n",
            "Results saved to \u001b[1mruns/detect/train4\u001b[0m\n",
            "\n",
            " Training YOLOv5 on Dataset Split 2...\n",
            "\n",
            "PRO TIP 💡 Replace 'model=yolov5s.pt' with new 'model=yolov5su.pt'.\n",
            "YOLOv5 'u' models are trained with https://github.com/ultralytics/ultralytics and feature improved performance vs standard YOLOv5 models trained with https://github.com/ultralytics/yolov5.\n",
            "\n",
            "Ultralytics 8.3.70 🚀 Python-3.11.11 torch-2.6.0+cu118 CUDA:0 (Tesla T4, 15095MiB)\n",
            "\u001b[34m\u001b[1mengine/trainer: \u001b[0mtask=detect, mode=train, model=yolov5s.pt, data=yolo_flower_dataset/dataset.yaml, epochs=15, time=None, patience=100, batch=32, imgsz=640, save=True, save_period=-1, cache=False, device=None, workers=8, project=None, name=train5, exist_ok=False, pretrained=True, optimizer=auto, verbose=True, seed=0, deterministic=True, single_cls=False, rect=False, cos_lr=False, close_mosaic=10, resume=False, amp=True, fraction=1.0, profile=False, freeze=None, multi_scale=False, overlap_mask=True, mask_ratio=4, dropout=0.0, val=True, split=val, save_json=False, save_hybrid=False, conf=None, iou=0.7, max_det=300, half=False, dnn=False, plots=True, source=None, vid_stride=1, stream_buffer=False, visualize=False, augment=False, agnostic_nms=False, classes=None, retina_masks=False, embed=None, show=False, save_frames=False, save_txt=False, save_conf=False, save_crop=False, show_labels=True, show_conf=True, show_boxes=True, line_width=None, format=torchscript, keras=False, optimize=False, int8=False, dynamic=False, simplify=True, opset=None, workspace=None, nms=False, lr0=0.01, lrf=0.01, momentum=0.937, weight_decay=0.0005, warmup_epochs=3.0, warmup_momentum=0.8, warmup_bias_lr=0.1, box=7.5, cls=0.5, dfl=1.5, pose=12.0, kobj=1.0, nbs=64, hsv_h=0.015, hsv_s=0.7, hsv_v=0.4, degrees=0.0, translate=0.1, scale=0.5, shear=0.0, perspective=0.0, flipud=0.0, fliplr=0.5, bgr=0.0, mosaic=1.0, mixup=0.0, copy_paste=0.0, copy_paste_mode=flip, auto_augment=randaugment, erasing=0.4, crop_fraction=1.0, cfg=None, tracker=botsort.yaml, save_dir=runs/detect/train5\n",
            "Overriding model.yaml nc=80 with nc=102\n",
            "\n",
            "                   from  n    params  module                                       arguments                     \n",
            "  0                  -1  1      3520  ultralytics.nn.modules.conv.Conv             [3, 32, 6, 2, 2]              \n",
            "  1                  -1  1     18560  ultralytics.nn.modules.conv.Conv             [32, 64, 3, 2]                \n",
            "  2                  -1  1     18816  ultralytics.nn.modules.block.C3              [64, 64, 1]                   \n",
            "  3                  -1  1     73984  ultralytics.nn.modules.conv.Conv             [64, 128, 3, 2]               \n",
            "  4                  -1  2    115712  ultralytics.nn.modules.block.C3              [128, 128, 2]                 \n",
            "  5                  -1  1    295424  ultralytics.nn.modules.conv.Conv             [128, 256, 3, 2]              \n",
            "  6                  -1  3    625152  ultralytics.nn.modules.block.C3              [256, 256, 3]                 \n",
            "  7                  -1  1   1180672  ultralytics.nn.modules.conv.Conv             [256, 512, 3, 2]              \n",
            "  8                  -1  1   1182720  ultralytics.nn.modules.block.C3              [512, 512, 1]                 \n",
            "  9                  -1  1    656896  ultralytics.nn.modules.block.SPPF            [512, 512, 5]                 \n",
            " 10                  -1  1    131584  ultralytics.nn.modules.conv.Conv             [512, 256, 1, 1]              \n",
            " 11                  -1  1         0  torch.nn.modules.upsampling.Upsample         [None, 2, 'nearest']          \n",
            " 12             [-1, 6]  1         0  ultralytics.nn.modules.conv.Concat           [1]                           \n",
            " 13                  -1  1    361984  ultralytics.nn.modules.block.C3              [512, 256, 1, False]          \n",
            " 14                  -1  1     33024  ultralytics.nn.modules.conv.Conv             [256, 128, 1, 1]              \n",
            " 15                  -1  1         0  torch.nn.modules.upsampling.Upsample         [None, 2, 'nearest']          \n",
            " 16             [-1, 4]  1         0  ultralytics.nn.modules.conv.Concat           [1]                           \n",
            " 17                  -1  1     90880  ultralytics.nn.modules.block.C3              [256, 128, 1, False]          \n",
            " 18                  -1  1    147712  ultralytics.nn.modules.conv.Conv             [128, 128, 3, 2]              \n",
            " 19            [-1, 14]  1         0  ultralytics.nn.modules.conv.Concat           [1]                           \n",
            " 20                  -1  1    296448  ultralytics.nn.modules.block.C3              [256, 256, 1, False]          \n",
            " 21                  -1  1    590336  ultralytics.nn.modules.conv.Conv             [256, 256, 3, 2]              \n",
            " 22            [-1, 10]  1         0  ultralytics.nn.modules.conv.Concat           [1]                           \n",
            " 23                  -1  1   1182720  ultralytics.nn.modules.block.C3              [512, 512, 1, False]          \n",
            " 24        [17, 20, 23]  1   2155522  ultralytics.nn.modules.head.Detect           [102, [128, 256, 512]]        \n",
            "YOLOv5s summary: 262 layers, 9,161,666 parameters, 9,161,650 gradients, 24.3 GFLOPs\n",
            "\n",
            "Transferred 421/427 items from pretrained weights\n",
            "\u001b[34m\u001b[1mTensorBoard: \u001b[0mStart with 'tensorboard --logdir runs/detect/train5', view at http://localhost:6006/\n",
            "Freezing layer 'model.24.dfl.conv.weight'\n",
            "\u001b[34m\u001b[1mAMP: \u001b[0mrunning Automatic Mixed Precision (AMP) checks...\n",
            "\u001b[34m\u001b[1mAMP: \u001b[0mchecks passed ✅\n"
          ]
        },
        {
          "output_type": "stream",
          "name": "stderr",
          "text": [
            "\u001b[34m\u001b[1mtrain: \u001b[0mScanning /content/yolo_flower_dataset/train/labels.cache... 4094 images, 0 backgrounds, 0 corrupt: 100%|██████████| 4094/4094 [00:00<?, ?it/s]"
          ]
        },
        {
          "output_type": "stream",
          "name": "stdout",
          "text": [
            "\u001b[34m\u001b[1malbumentations: \u001b[0mBlur(p=0.01, blur_limit=(3, 7)), MedianBlur(p=0.01, blur_limit=(3, 7)), ToGray(p=0.01, num_output_channels=3, method='weighted_average'), CLAHE(p=0.01, clip_limit=(1.0, 4.0), tile_grid_size=(8, 8))\n"
          ]
        },
        {
          "output_type": "stream",
          "name": "stderr",
          "text": [
            "\n",
            "\u001b[34m\u001b[1mval: \u001b[0mScanning /content/yolo_flower_dataset/val/labels.cache... 2047 images, 0 backgrounds, 0 corrupt: 100%|██████████| 2047/2047 [00:00<?, ?it/s]\n"
          ]
        },
        {
          "output_type": "stream",
          "name": "stdout",
          "text": [
            "Plotting labels to runs/detect/train5/labels.jpg... \n",
            "\u001b[34m\u001b[1moptimizer:\u001b[0m 'optimizer=auto' found, ignoring 'lr0=0.01' and 'momentum=0.937' and determining best 'optimizer', 'lr0' and 'momentum' automatically... \n",
            "\u001b[34m\u001b[1moptimizer:\u001b[0m AdamW(lr=9.4e-05, momentum=0.9) with parameter groups 69 weight(decay=0.0), 76 weight(decay=0.0005), 75 bias(decay=0.0)\n",
            "\u001b[34m\u001b[1mTensorBoard: \u001b[0mmodel graph visualization added ✅\n",
            "Image sizes 640 train, 640 val\n",
            "Using 2 dataloader workers\n",
            "Logging results to \u001b[1mruns/detect/train5\u001b[0m\n",
            "Starting training for 15 epochs...\n",
            "\n",
            "      Epoch    GPU_mem   box_loss   cls_loss   dfl_loss  Instances       Size\n"
          ]
        },
        {
          "output_type": "stream",
          "name": "stderr",
          "text": [
            "       1/15      8.12G      1.355      4.894      1.935         75        640: 100%|██████████| 128/128 [02:04<00:00,  1.03it/s]\n",
            "                 Class     Images  Instances      Box(P          R      mAP50  mAP50-95): 100%|██████████| 32/32 [00:31<00:00,  1.01it/s]\n"
          ]
        },
        {
          "output_type": "stream",
          "name": "stdout",
          "text": [
            "                   all       2047       2047      0.554     0.0937     0.0931     0.0765\n",
            "\n",
            "      Epoch    GPU_mem   box_loss   cls_loss   dfl_loss  Instances       Size\n"
          ]
        },
        {
          "output_type": "stream",
          "name": "stderr",
          "text": [
            "       2/15      7.99G     0.6659       3.06      1.217         88        640: 100%|██████████| 128/128 [01:39<00:00,  1.29it/s]\n",
            "                 Class     Images  Instances      Box(P          R      mAP50  mAP50-95): 100%|██████████| 32/32 [00:24<00:00,  1.32it/s]\n"
          ]
        },
        {
          "output_type": "stream",
          "name": "stdout",
          "text": [
            "                   all       2047       2047      0.468      0.386      0.408       0.38\n",
            "\n",
            "      Epoch    GPU_mem   box_loss   cls_loss   dfl_loss  Instances       Size\n"
          ]
        },
        {
          "output_type": "stream",
          "name": "stderr",
          "text": [
            "       3/15      7.99G     0.5883      2.244      1.156         76        640: 100%|██████████| 128/128 [01:32<00:00,  1.38it/s]\n",
            "                 Class     Images  Instances      Box(P          R      mAP50  mAP50-95): 100%|██████████| 32/32 [00:22<00:00,  1.40it/s]\n"
          ]
        },
        {
          "output_type": "stream",
          "name": "stdout",
          "text": [
            "                   all       2047       2047      0.612      0.623      0.655       0.62\n",
            "\n",
            "      Epoch    GPU_mem   box_loss   cls_loss   dfl_loss  Instances       Size\n"
          ]
        },
        {
          "output_type": "stream",
          "name": "stderr",
          "text": [
            "       4/15      7.96G     0.5482      1.796      1.123         72        640: 100%|██████████| 128/128 [01:37<00:00,  1.31it/s]\n",
            "                 Class     Images  Instances      Box(P          R      mAP50  mAP50-95): 100%|██████████| 32/32 [00:21<00:00,  1.51it/s]"
          ]
        },
        {
          "output_type": "stream",
          "name": "stdout",
          "text": [
            "                   all       2047       2047      0.769      0.676       0.79      0.766\n"
          ]
        },
        {
          "output_type": "stream",
          "name": "stderr",
          "text": [
            "\n"
          ]
        },
        {
          "output_type": "stream",
          "name": "stdout",
          "text": [
            "\n",
            "      Epoch    GPU_mem   box_loss   cls_loss   dfl_loss  Instances       Size\n"
          ]
        },
        {
          "output_type": "stream",
          "name": "stderr",
          "text": [
            "       5/15      7.96G     0.5133      1.492      1.098         75        640: 100%|██████████| 128/128 [01:39<00:00,  1.29it/s]\n",
            "                 Class     Images  Instances      Box(P          R      mAP50  mAP50-95): 100%|██████████| 32/32 [00:23<00:00,  1.39it/s]"
          ]
        },
        {
          "output_type": "stream",
          "name": "stdout",
          "text": [
            "                   all       2047       2047      0.796      0.789      0.853      0.824\n"
          ]
        },
        {
          "output_type": "stream",
          "name": "stderr",
          "text": [
            "\n"
          ]
        },
        {
          "output_type": "stream",
          "name": "stdout",
          "text": [
            "Closing dataloader mosaic\n",
            "\u001b[34m\u001b[1malbumentations: \u001b[0mBlur(p=0.01, blur_limit=(3, 7)), MedianBlur(p=0.01, blur_limit=(3, 7)), ToGray(p=0.01, num_output_channels=3, method='weighted_average'), CLAHE(p=0.01, clip_limit=(1.0, 4.0), tile_grid_size=(8, 8))\n",
            "\n",
            "      Epoch    GPU_mem   box_loss   cls_loss   dfl_loss  Instances       Size\n"
          ]
        },
        {
          "output_type": "stream",
          "name": "stderr",
          "text": [
            "       6/15      7.96G     0.4553      1.348      1.203         30        640: 100%|██████████| 128/128 [01:33<00:00,  1.36it/s]\n",
            "                 Class     Images  Instances      Box(P          R      mAP50  mAP50-95): 100%|██████████| 32/32 [00:21<00:00,  1.47it/s]\n"
          ]
        },
        {
          "output_type": "stream",
          "name": "stdout",
          "text": [
            "                   all       2047       2047      0.814       0.81      0.885      0.881\n",
            "\n",
            "      Epoch    GPU_mem   box_loss   cls_loss   dfl_loss  Instances       Size\n"
          ]
        },
        {
          "output_type": "stream",
          "name": "stderr",
          "text": [
            "       7/15      7.96G     0.3898      1.028      1.138         30        640: 100%|██████████| 128/128 [01:30<00:00,  1.41it/s]\n",
            "                 Class     Images  Instances      Box(P          R      mAP50  mAP50-95): 100%|██████████| 32/32 [00:25<00:00,  1.27it/s]\n"
          ]
        },
        {
          "output_type": "stream",
          "name": "stdout",
          "text": [
            "                   all       2047       2047      0.819      0.819       0.89      0.887\n",
            "\n",
            "      Epoch    GPU_mem   box_loss   cls_loss   dfl_loss  Instances       Size\n"
          ]
        },
        {
          "output_type": "stream",
          "name": "stderr",
          "text": [
            "       8/15      7.96G     0.3617     0.8643      1.107         30        640: 100%|██████████| 128/128 [01:30<00:00,  1.42it/s]\n",
            "                 Class     Images  Instances      Box(P          R      mAP50  mAP50-95): 100%|██████████| 32/32 [00:23<00:00,  1.34it/s]"
          ]
        },
        {
          "output_type": "stream",
          "name": "stdout",
          "text": [
            "                   all       2047       2047      0.904      0.845      0.929      0.927\n"
          ]
        },
        {
          "output_type": "stream",
          "name": "stderr",
          "text": [
            "\n"
          ]
        },
        {
          "output_type": "stream",
          "name": "stdout",
          "text": [
            "\n",
            "      Epoch    GPU_mem   box_loss   cls_loss   dfl_loss  Instances       Size\n"
          ]
        },
        {
          "output_type": "stream",
          "name": "stderr",
          "text": [
            "       9/15      7.96G     0.3435      0.738      1.093         30        640: 100%|██████████| 128/128 [01:29<00:00,  1.43it/s]\n",
            "                 Class     Images  Instances      Box(P          R      mAP50  mAP50-95): 100%|██████████| 32/32 [00:22<00:00,  1.45it/s]"
          ]
        },
        {
          "output_type": "stream",
          "name": "stdout",
          "text": [
            "                   all       2047       2047      0.909      0.872      0.941       0.94\n"
          ]
        },
        {
          "output_type": "stream",
          "name": "stderr",
          "text": [
            "\n"
          ]
        },
        {
          "output_type": "stream",
          "name": "stdout",
          "text": [
            "\n",
            "      Epoch    GPU_mem   box_loss   cls_loss   dfl_loss  Instances       Size\n"
          ]
        },
        {
          "output_type": "stream",
          "name": "stderr",
          "text": [
            "      10/15      7.96G     0.3393     0.6578      1.084         30        640: 100%|██████████| 128/128 [01:32<00:00,  1.39it/s]\n",
            "                 Class     Images  Instances      Box(P          R      mAP50  mAP50-95): 100%|██████████| 32/32 [00:22<00:00,  1.41it/s]"
          ]
        },
        {
          "output_type": "stream",
          "name": "stdout",
          "text": [
            "                   all       2047       2047      0.925      0.882      0.953      0.952\n"
          ]
        },
        {
          "output_type": "stream",
          "name": "stderr",
          "text": [
            "\n"
          ]
        },
        {
          "output_type": "stream",
          "name": "stdout",
          "text": [
            "\n",
            "      Epoch    GPU_mem   box_loss   cls_loss   dfl_loss  Instances       Size\n"
          ]
        },
        {
          "output_type": "stream",
          "name": "stderr",
          "text": [
            "      11/15      7.96G     0.3298     0.5866      1.078         30        640: 100%|██████████| 128/128 [01:28<00:00,  1.44it/s]\n",
            "                 Class     Images  Instances      Box(P          R      mAP50  mAP50-95): 100%|██████████| 32/32 [00:21<00:00,  1.51it/s]"
          ]
        },
        {
          "output_type": "stream",
          "name": "stdout",
          "text": [
            "                   all       2047       2047      0.923      0.893      0.956      0.955\n"
          ]
        },
        {
          "output_type": "stream",
          "name": "stderr",
          "text": [
            "\n"
          ]
        },
        {
          "output_type": "stream",
          "name": "stdout",
          "text": [
            "\n",
            "      Epoch    GPU_mem   box_loss   cls_loss   dfl_loss  Instances       Size\n"
          ]
        },
        {
          "output_type": "stream",
          "name": "stderr",
          "text": [
            "      12/15      7.96G     0.3247     0.5342      1.079         30        640: 100%|██████████| 128/128 [01:30<00:00,  1.41it/s]\n",
            "                 Class     Images  Instances      Box(P          R      mAP50  mAP50-95): 100%|██████████| 32/32 [00:22<00:00,  1.45it/s]\n"
          ]
        },
        {
          "output_type": "stream",
          "name": "stdout",
          "text": [
            "                   all       2047       2047      0.922      0.899      0.958      0.957\n",
            "\n",
            "      Epoch    GPU_mem   box_loss   cls_loss   dfl_loss  Instances       Size\n"
          ]
        },
        {
          "output_type": "stream",
          "name": "stderr",
          "text": [
            "      13/15      7.96G     0.3162     0.4879      1.072         30        640: 100%|██████████| 128/128 [01:27<00:00,  1.47it/s]\n",
            "                 Class     Images  Instances      Box(P          R      mAP50  mAP50-95): 100%|██████████| 32/32 [00:22<00:00,  1.42it/s]"
          ]
        },
        {
          "output_type": "stream",
          "name": "stdout",
          "text": [
            "                   all       2047       2047      0.943      0.895      0.959      0.959\n"
          ]
        },
        {
          "output_type": "stream",
          "name": "stderr",
          "text": [
            "\n"
          ]
        },
        {
          "output_type": "stream",
          "name": "stdout",
          "text": [
            "\n",
            "      Epoch    GPU_mem   box_loss   cls_loss   dfl_loss  Instances       Size\n"
          ]
        },
        {
          "output_type": "stream",
          "name": "stderr",
          "text": [
            "      14/15      7.96G     0.3092     0.4617      1.065         30        640: 100%|██████████| 128/128 [01:29<00:00,  1.44it/s]\n",
            "                 Class     Images  Instances      Box(P          R      mAP50  mAP50-95): 100%|██████████| 32/32 [00:21<00:00,  1.46it/s]\n"
          ]
        },
        {
          "output_type": "stream",
          "name": "stdout",
          "text": [
            "                   all       2047       2047      0.946      0.905      0.964      0.964\n",
            "\n",
            "      Epoch    GPU_mem   box_loss   cls_loss   dfl_loss  Instances       Size\n"
          ]
        },
        {
          "output_type": "stream",
          "name": "stderr",
          "text": [
            "      15/15      7.96G     0.3053     0.4409      1.063         30        640: 100%|██████████| 128/128 [01:28<00:00,  1.45it/s]\n",
            "                 Class     Images  Instances      Box(P          R      mAP50  mAP50-95): 100%|██████████| 32/32 [00:20<00:00,  1.56it/s]"
          ]
        },
        {
          "output_type": "stream",
          "name": "stdout",
          "text": [
            "                   all       2047       2047      0.937      0.915      0.966      0.965\n"
          ]
        },
        {
          "output_type": "stream",
          "name": "stderr",
          "text": [
            "\n"
          ]
        },
        {
          "output_type": "stream",
          "name": "stdout",
          "text": [
            "\n",
            "15 epochs completed in 0.498 hours.\n",
            "Optimizer stripped from runs/detect/train5/weights/last.pt, 18.6MB\n",
            "Optimizer stripped from runs/detect/train5/weights/best.pt, 18.6MB\n",
            "\n",
            "Validating runs/detect/train5/weights/best.pt...\n",
            "Ultralytics 8.3.70 🚀 Python-3.11.11 torch-2.6.0+cu118 CUDA:0 (Tesla T4, 15095MiB)\n",
            "YOLOv5s summary (fused): 193 layers, 9,151,010 parameters, 0 gradients, 24.0 GFLOPs\n"
          ]
        },
        {
          "output_type": "stream",
          "name": "stderr",
          "text": [
            "                 Class     Images  Instances      Box(P          R      mAP50  mAP50-95): 100%|██████████| 32/32 [00:23<00:00,  1.36it/s]\n"
          ]
        },
        {
          "output_type": "stream",
          "name": "stdout",
          "text": [
            "                   all       2047       2047      0.937      0.914      0.966      0.965\n",
            "               class_0         10         10          1      0.885      0.986      0.986\n",
            "               class_1         15         15          1       0.84       0.95       0.95\n",
            "               class_2         10         10      0.846      0.552      0.812      0.812\n",
            "               class_3         14         14      0.944      0.643      0.812      0.812\n",
            "               class_4         16         16          1      0.806      0.971      0.971\n",
            "               class_5         11         11      0.959          1      0.995      0.995\n",
            "               class_6         10         10      0.905      0.958      0.977      0.977\n",
            "               class_7         21         21      0.979          1      0.995      0.995\n",
            "               class_8         12         12      0.892      0.917      0.904      0.904\n",
            "               class_9         11         11          1      0.818      0.961      0.961\n",
            "              class_10         22         22      0.907      0.883       0.97       0.97\n",
            "              class_11         22         22          1      0.854       0.95       0.95\n",
            "              class_12         12         12      0.839      0.917      0.979      0.979\n",
            "              class_13         12         12      0.827          1      0.995      0.995\n",
            "              class_14         12         12      0.832      0.917      0.961      0.961\n",
            "              class_15         10         10          1      0.738      0.877      0.877\n",
            "              class_16         21         21      0.981          1      0.995      0.995\n",
            "              class_17         20         20          1      0.926      0.974      0.974\n",
            "              class_18         12         12      0.794      0.833      0.897      0.897\n",
            "              class_19         14         14      0.862      0.896      0.937      0.937\n",
            "              class_20         10         10          1      0.837      0.972      0.972\n",
            "              class_21         15         15      0.955      0.867      0.987      0.987\n",
            "              class_22         23         23      0.932          1      0.992      0.992\n",
            "              class_23         11         11      0.901      0.909      0.946      0.946\n",
            "              class_24         10         10      0.977          1      0.995      0.995\n",
            "              class_25         10         10      0.929        0.9      0.986      0.986\n",
            "              class_26         10         10      0.894        0.8      0.977      0.977\n",
            "              class_27         17         17      0.766          1       0.98       0.98\n",
            "              class_28         19         19       0.94      0.832      0.966      0.966\n",
            "              class_29         21         21      0.908      0.905       0.97       0.97\n",
            "              class_30         13         13      0.771      0.777      0.924      0.887\n",
            "              class_31         11         11      0.968      0.727      0.932      0.932\n",
            "              class_32         12         12      0.968          1      0.995      0.995\n",
            "              class_33         10         10      0.931        0.9      0.986      0.986\n",
            "              class_34         11         11      0.845          1      0.988      0.988\n",
            "              class_35         19         19      0.945      0.913      0.977      0.977\n",
            "              class_36         27         27      0.984      0.963      0.993      0.993\n",
            "              class_37         14         14      0.931      0.959       0.99       0.99\n",
            "              class_38         10         10      0.805        0.8      0.864      0.864\n",
            "              class_39         17         17          1      0.646      0.844      0.844\n",
            "              class_40         32         32        0.9      0.969      0.979      0.979\n",
            "              class_41         15         15          1      0.785      0.954      0.954\n",
            "              class_42         32         32      0.815      0.938      0.934      0.934\n",
            "              class_43         23         23      0.981      0.957       0.99       0.99\n",
            "              class_44         10         10      0.721        0.9      0.962      0.962\n",
            "              class_45         49         49      0.978          1      0.993      0.993\n",
            "              class_46         17         17      0.971          1      0.995      0.995\n",
            "              class_47         18         18      0.851      0.889      0.931      0.931\n",
            "              class_48         12         12      0.964          1      0.995      0.995\n",
            "              class_49         23         23      0.978      0.957      0.993      0.993\n",
            "              class_50         64         64          1      0.968      0.993      0.993\n",
            "              class_51         21         21      0.981          1      0.995      0.995\n",
            "              class_52         23         23          1      0.987      0.995      0.995\n",
            "              class_53         15         15      0.971          1      0.995      0.995\n",
            "              class_54         18         18      0.937      0.778      0.973      0.973\n",
            "              class_55         27         27       0.98          1      0.995      0.995\n",
            "              class_56         17         17       0.97      0.941      0.979      0.979\n",
            "              class_57         28         28      0.981          1      0.995      0.995\n",
            "              class_58         17         17      0.977          1      0.995      0.995\n",
            "              class_59         27         27      0.982          1      0.995      0.995\n",
            "              class_60         13         13      0.959          1      0.995      0.995\n",
            "              class_61         14         14      0.914      0.758      0.887      0.887\n",
            "              class_62         14         14      0.968          1      0.995      0.995\n",
            "              class_63         13         13      0.949          1      0.995      0.995\n",
            "              class_64         25         25          1      0.986      0.995      0.995\n",
            "              class_65         15         15      0.876          1      0.995      0.995\n",
            "              class_66         11         11          1      0.733      0.903      0.903\n",
            "              class_67         14         14      0.894          1       0.99       0.99\n",
            "              class_68         14         14      0.945      0.857      0.942      0.942\n",
            "              class_69         16         16      0.935      0.897      0.956      0.956\n",
            "              class_70         19         19          1      0.998      0.995      0.995\n",
            "              class_71         24         24      0.951      0.808      0.937      0.937\n",
            "              class_72         48         48      0.985          1      0.995      0.995\n",
            "              class_73         43         43      0.935       0.93      0.986      0.986\n",
            "              class_74         30         30      0.902      0.967      0.978      0.978\n",
            "              class_75         27         27      0.823      0.926       0.97       0.97\n",
            "              class_76         63         63      0.993          1      0.995      0.995\n",
            "              class_77         34         34      0.955          1      0.994      0.994\n",
            "              class_78         10         10      0.954        0.9      0.978      0.978\n",
            "              class_79         26         26      0.975          1      0.995      0.995\n",
            "              class_80         41         41      0.976       0.98      0.995      0.995\n",
            "              class_81         28         28      0.925          1      0.995      0.995\n",
            "              class_82         33         33      0.883      0.914      0.958      0.958\n",
            "              class_83         21         21          1      0.687      0.916      0.916\n",
            "              class_84         16         16      0.935      0.875      0.926      0.926\n",
            "              class_85         15         15      0.981          1      0.995      0.995\n",
            "              class_86         16         16      0.965          1      0.995      0.995\n",
            "              class_87         38         38      0.849      0.947      0.981      0.981\n",
            "              class_88         46         46          1      0.931      0.994      0.994\n",
            "              class_89         20         20      0.916       0.65      0.802      0.802\n",
            "              class_90         19         19          1      0.917      0.993      0.993\n",
            "              class_91         17         17      0.976          1      0.995      0.995\n",
            "              class_92         12         12      0.982      0.917      0.917      0.917\n",
            "              class_93         40         40      0.964          1      0.979      0.979\n",
            "              class_94         32         32      0.951      0.969      0.992      0.992\n",
            "              class_95         23         23      0.879      0.957      0.927      0.927\n",
            "              class_96         17         17      0.928      0.758      0.911      0.911\n",
            "              class_97         20         20      0.999          1      0.995      0.995\n",
            "              class_98         16         16      0.932          1      0.995      0.995\n",
            "              class_99         12         12          1      0.977      0.995      0.995\n",
            "             class_100         15         15      0.849      0.933       0.98       0.98\n",
            "             class_101         12         12      0.964      0.917      0.989      0.989\n",
            "Speed: 0.2ms preprocess, 3.5ms inference, 0.0ms loss, 2.2ms postprocess per image\n",
            "Results saved to \u001b[1mruns/detect/train5\u001b[0m\n",
            "\n",
            " Final YOLOv5 Test Accuracies: [0.965344089770497, 0.965344089770497]\n"
          ]
        }
      ]
    },
    {
      "cell_type": "code",
      "source": [
        "def plot_yolo_loss(run_dir):\n",
        "    results_file = f\"{run_dir}/results.csv\"\n",
        "\n",
        "    if not os.path.exists(results_file):\n",
        "        print(f\"Warning: {results_file} not found. Training might not have completed.\")\n",
        "        return\n",
        "\n",
        "    df = pd.read_csv(results_file)\n",
        "    epochs = df.index\n",
        "\n",
        "    plt.figure(figsize=(12, 5))\n",
        "\n",
        "    plt.subplot(1, 1, 1)\n",
        "    plt.plot(epochs, df[\"train/box_loss\"], label=\"Box Loss\")\n",
        "    plt.plot(epochs, df[\"train/cls_loss\"], label=\"Classification Loss\")\n",
        "    plt.plot(epochs, df[\"train/dfl_loss\"], label=\"DFL Loss\")\n",
        "\n",
        "    plt.axhline(y=df[\"train/box_loss\"].min(), color='r', linestyle='--', label=\"Min Box Loss\")\n",
        "    plt.axhline(y=df[\"train/cls_loss\"].min(), color='g', linestyle='--', label=\"Min Classification Loss\")\n",
        "\n",
        "    plt.xlabel(\"Epochs\")\n",
        "    plt.ylabel(\"Loss\")\n",
        "    plt.legend()\n",
        "    plt.title(\"YOLOv5 Loss Over Epochs\")\n",
        "    plt.show()\n",
        "\n",
        "def plot_yolo_accuracy(run_dir):\n",
        "    results_file = f\"{run_dir}/results.csv\"\n",
        "\n",
        "    if not os.path.exists(results_file):\n",
        "        print(f\"Warning: {results_file} not found. Training might not have completed.\")\n",
        "        return\n",
        "\n",
        "    df = pd.read_csv(results_file)\n",
        "    epochs = df.index\n",
        "\n",
        "    plt.figure(figsize=(12, 5))\n",
        "\n",
        "    plt.subplot(1, 1, 1)\n",
        "    plt.plot(epochs, df[\"metrics/mAP50(B)\"], label=\"mAP@50\")\n",
        "    plt.plot(epochs, df[\"metrics/mAP50-95(B)\"], label=\"mAP@50-95\")\n",
        "\n",
        "    plt.xlabel(\"Epochs\")\n",
        "    plt.ylabel(\"Accuracy (mAP)\")\n",
        "    plt.legend()\n",
        "    plt.title(\"YOLOv5 Accuracy Over Epochs\")\n",
        "    plt.show()\n",
        "\n",
        "\n",
        "#Changed according to what we get in the testing above\n",
        "run_dirs = [\"runs/detect/train4\", \"runs/detect/train5\"]\n",
        "\n",
        "split = 1\n",
        "for run_dir in run_dirs:\n",
        "    print(f\"\\n Plotting Results for {split}...\\n\")\n",
        "    plot_yolo_loss(run_dir)\n",
        "    plot_yolo_accuracy(run_dir)\n",
        "    split += 1\n"
      ],
      "metadata": {
        "colab": {
          "base_uri": "https://localhost:8080/",
          "height": 1000
        },
        "id": "SZIYPfh0JZmB",
        "outputId": "aa02e094-fbb5-4112-f661-8d5d03520d5a"
      },
      "execution_count": 18,
      "outputs": [
        {
          "output_type": "stream",
          "name": "stdout",
          "text": [
            "\n",
            " Plotting Results for 1...\n",
            "\n"
          ]
        },
        {
          "output_type": "display_data",
          "data": {
            "text/plain": [
              "<Figure size 1200x500 with 1 Axes>"
            ],
            "image/png": "[encoded data removed]"
          },
          "metadata": {}
        },
        {
          "output_type": "display_data",
          "data": {
            "text/plain": [
              "<Figure size 1200x500 with 1 Axes>"
            ],
            "image/png": "[encoded data removed]"
          },
          "metadata": {}
        },
        {
          "output_type": "stream",
          "name": "stdout",
          "text": [
            "\n",
            " Plotting Results for 2...\n",
            "\n"
          ]
        },
        {
          "output_type": "display_data",
          "data": {
            "text/plain": [
              "<Figure size 1200x500 with 1 Axes>"
            ],
            "image/png": "[encoded data removed]"
          },
          "metadata": {}
        },
        {
          "output_type": "display_data",
          "data": {
            "text/plain": [
              "<Figure size 1200x500 with 1 Axes>"
            ],
            "image/png": "[encoded data removed]"
          },
          "metadata": {}
        }
      ]
    }
  ],
  "metadata": {
    "accelerator": "GPU",
    "colab": {
      "gpuType": "T4",
      "provenance": []
    },
    "kernelspec": {
      "display_name": "Python 3",
      "name": "python3"
    },
    "language_info": {
      "name": "python"
    }
  },
  "nbformat": 4,
  "nbformat_minor": 0
}